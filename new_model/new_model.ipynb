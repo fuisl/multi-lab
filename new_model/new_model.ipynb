{
 "cells": [
  {
   "cell_type": "code",
   "execution_count": 19,
   "metadata": {},
   "outputs": [],
   "source": [
    "from keras.models import load_model  # TensorFlow is required for Keras to work\n",
    "import cv2  # Install opencv-python\n",
    "import numpy as np\n",
    "import time\n",
    "\n",
    "# Disable scientific notation for clarity\n",
    "np.set_printoptions(suppress=True)"
   ]
  },
  {
   "cell_type": "code",
   "execution_count": 20,
   "metadata": {},
   "outputs": [],
   "source": [
    "# Load the model\n",
    "model = load_model(\"keras_Model.h5\", compile=False)\n",
    "\n",
    "# Load the labels\n",
    "class_names = open(\"labels.txt\", \"r\").readlines()"
   ]
  },
  {
   "cell_type": "code",
   "execution_count": 21,
   "metadata": {},
   "outputs": [],
   "source": [
    "# CAMERA can be 0 or 1 based on default camera of your computer\n",
    "camera = cv2.VideoCapture(0)"
   ]
  },
  {
   "cell_type": "code",
   "execution_count": 22,
   "metadata": {},
   "outputs": [],
   "source": [
    "def image_detector():\n",
    "    # Grab the webcamera's image.\n",
    "    ret, image = camera.read()\n",
    "\n",
    "    # Resize the raw image into (224-height,224-width) pixels\n",
    "    image = cv2.resize(image, (224, 224), interpolation=cv2.INTER_AREA)\n",
    "\n",
    "    # Show the image in a window\n",
    "    cv2.imshow(\"Webcam Image\", image)\n",
    "\n",
    "    # Make the image a numpy array and reshape it to the models input shape.\n",
    "    image = np.asarray(image, dtype=np.float32).reshape(1, 224, 224, 3)\n",
    "\n",
    "    # Normalize the image array\n",
    "    image = (image / 127.5) - 1\n",
    "\n",
    "    # Predicts the model\n",
    "    prediction = model.predict(image)\n",
    "    index = np.argmax(prediction)\n",
    "    class_name = class_names[index]\n",
    "    confidence_score = prediction[0][index]\n",
    "\n",
    "    # Print prediction and confidence score\n",
    "    print(\"Class:\", class_name[2:], end=\"\")\n",
    "    print(\"Confidence Score:\", str(np.round(confidence_score * 100))[:-2], \"%\")"
   ]
  },
  {
   "cell_type": "code",
   "execution_count": null,
   "metadata": {},
   "outputs": [],
   "source": [
    "# Running the code\n",
    "while True:\n",
    "    image_detector()\n",
    "    time.sleep(1)"
   ]
  }
 ],
 "metadata": {
  "kernelspec": {
   "display_name": "Python 3",
   "language": "python",
   "name": "python3"
  },
  "language_info": {
   "codemirror_mode": {
    "name": "ipython",
    "version": 3
   },
   "file_extension": ".py",
   "mimetype": "text/x-python",
   "name": "python",
   "nbconvert_exporter": "python",
   "pygments_lexer": "ipython3",
   "version": "3.11.0"
  },
  "orig_nbformat": 4
 },
 "nbformat": 4,
 "nbformat_minor": 2
}
